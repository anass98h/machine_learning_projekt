{
 "cells": [
  {
   "cell_type": "markdown",
   "metadata": {},
   "source": [
    "| Version | Used Method       | R Squared | MSE    |\n",
    "|---------|-------------------|-----------|--------|\n",
    "| 1.0     | Linear regression | 0.61637   | 0.0229 |\n",
    "| 2.0     | Linear regression | 0.61700   | 0.0228 |\n",
    "| 3.0     | Linear regression | 0.62206   | 0.0225 |\n"
   ]
  }
 ],
 "metadata": {
  "language_info": {
   "name": "python"
  }
 },
 "nbformat": 4,
 "nbformat_minor": 2
}
