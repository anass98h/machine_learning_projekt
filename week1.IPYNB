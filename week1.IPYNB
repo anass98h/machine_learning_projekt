{
 "cells": [
  {
   "cell_type": "code",
   "execution_count": 1,
   "metadata": {},
   "outputs": [
    {
     "name": "stdout",
     "output_type": "stream",
     "text": [
      "hello world\n"
     ]
    }
   ],
   "source": [
    "print(\"hello world\")"
   ]
  },
  {
   "cell_type": "markdown",
   "metadata": {},
   "source": [
    "this is a text for week 1 \n",
    "names : Hallak! \n",
    "        Gebriel\n",
    "        Rishabh !\n",
    "        Vilgot\n",
    "        Lorenza"
   ]
  },
  {
   "cell_type": "markdown",
   "metadata": {},
   "source": [
    "## Team Setup\n",
    "\n",
    "- **Leader**: Hallak MohamadAnas\n",
    "- **Front End**: Rishabh Gupta\n",
    "- **Backend**: Gebriel Abebe Fanta\n",
    "- **ML and Testing**: Vilgot Lundborg, Lorenza Pezzullo\n",
    "\n",
    "**Git Repository**: [GitHub Repo](https://github.com/anass98h/machine_learning_projekt/tree/main)\n",
    "\n",
    "**Communication**: Through Discord"
   ]
  }
 ],
 "metadata": {
  "kernelspec": {
   "display_name": "Python 3",
   "language": "python",
   "name": "python3"
  },
  "language_info": {
   "codemirror_mode": {
    "name": "ipython",
    "version": 3
   },
   "file_extension": ".py",
   "mimetype": "text/x-python",
   "name": "python",
   "nbconvert_exporter": "python",
   "pygments_lexer": "ipython3",
   "version": "3.10.11"
  }
 },
 "nbformat": 4,
 "nbformat_minor": 2
}
